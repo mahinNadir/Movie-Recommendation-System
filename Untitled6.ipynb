{
  "nbformat": 4,
  "nbformat_minor": 0,
  "metadata": {
    "colab": {
      "provenance": [],
      "toc_visible": true
    },
    "kernelspec": {
      "name": "python3",
      "display_name": "Python 3"
    },
    "language_info": {
      "name": "python"
    }
  },
  "cells": [
    {
      "cell_type": "code",
      "execution_count": 7,
      "metadata": {
        "colab": {
          "base_uri": "https://localhost:8080/"
        },
        "id": "GrdmfcooEfy-",
        "outputId": "89c78423-3078-49e9-eabf-c4aad052b383"
      },
      "outputs": [
        {
          "output_type": "stream",
          "name": "stdout",
          "text": [
            "Enter the movie name for which you want recommendations: Movie3\n",
            "Recommended movies for Movie3: ['Movie1', 'Movie5', 'Movie4', 'Movie2']\n"
          ]
        }
      ],
      "source": [
        "import numpy as np\n",
        "from sklearn.metrics.pairwise import cosine_similarity\n",
        "\n",
        "# Sample data for movies and their features\n",
        "movies = {\n",
        "    'Movie1': [1, 0, 1, 1, 0],  # Features: Action, Romance, Comedy, Thriller, Sci-Fi\n",
        "    'Movie2': [0, 1, 1, 0, 1],\n",
        "    'Movie3': [1, 1, 0, 1, 0],\n",
        "    'Movie4': [0, 0, 1, 1, 1],\n",
        "    'Movie5': [1, 0, 0, 0, 1],\n",
        "}\n",
        "\n",
        "# Function to calculate similarity between movies based on features\n",
        "def calculate_similarity(movie_features):\n",
        "    similarity_matrix = cosine_similarity(movie_features)\n",
        "    return similarity_matrix\n",
        "\n",
        "# Function to recommend similar movies\n",
        "def recommend_movies(movie_name, similarity_matrix, movies):\n",
        "    if movie_name not in movies:\n",
        "        print(f\"Movie '{movie_name}' not found in the database.\")\n",
        "        return []\n",
        "\n",
        "    movie_index = list(movies.keys()).index(movie_name)\n",
        "    similarity_scores = similarity_matrix[movie_index]\n",
        "    similar_movies_indices = np.argsort(similarity_scores)[::-1][1:]  # Exclude the same movie\n",
        "\n",
        "    similar_movies = []\n",
        "    for index in similar_movies_indices:\n",
        "        similar_movies.append(list(movies.keys())[index])\n",
        "\n",
        "    return similar_movies\n",
        "\n",
        "# Calculate similarity matrix\n",
        "movie_features = np.array(list(movies.values()))\n",
        "similarity_matrix = calculate_similarity(movie_features)\n",
        "\n",
        "# Get movie name input from user\n",
        "movie_name = input(\"Enter the movie name for which you want recommendations: \")\n",
        "\n",
        "# Test the recommendation system\n",
        "recommended_movies = recommend_movies(movie_name, similarity_matrix, movies)\n",
        "\n",
        "if recommended_movies:\n",
        "    print(f\"Recommended movies for {movie_name}: {recommended_movies}\")\n",
        "else:\n",
        "    print(\"No recommendations available.\")\n"
      ]
    }
  ]
}